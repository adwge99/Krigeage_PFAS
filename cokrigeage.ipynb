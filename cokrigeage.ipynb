{
 "cells": [
  {
   "cell_type": "code",
   "execution_count": 70,
   "metadata": {},
   "outputs": [],
   "source": [
    "import pandas as pd\n",
    "import numpy as np\n",
    "from scipy.spatial.distance import cdist\n",
    "from scipy.stats import pearsonr\n",
    "import seaborn as sns"
   ]
  },
  {
   "cell_type": "code",
   "execution_count": 78,
   "metadata": {},
   "outputs": [],
   "source": [
    "datatemp = 'data/pfas_2023_surf_ground_drink.parquet'\n",
    "df_temp = pd.read_parquet(datatemp)"
   ]
  },
  {
   "cell_type": "code",
   "execution_count": 79,
   "metadata": {},
   "outputs": [
    {
     "data": {
      "text/html": [
       "<div>\n",
       "<style scoped>\n",
       "    .dataframe tbody tr th:only-of-type {\n",
       "        vertical-align: middle;\n",
       "    }\n",
       "\n",
       "    .dataframe tbody tr th {\n",
       "        vertical-align: top;\n",
       "    }\n",
       "\n",
       "    .dataframe thead th {\n",
       "        text-align: right;\n",
       "    }\n",
       "</style>\n",
       "<table border=\"1\" class=\"dataframe\">\n",
       "  <thead>\n",
       "    <tr style=\"text-align: right;\">\n",
       "      <th></th>\n",
       "      <th>lat</th>\n",
       "      <th>lon</th>\n",
       "      <th>pfas_sum</th>\n",
       "    </tr>\n",
       "  </thead>\n",
       "  <tbody>\n",
       "    <tr>\n",
       "      <th>194750</th>\n",
       "      <td>41.392351</td>\n",
       "      <td>9.165047</td>\n",
       "      <td>4.1</td>\n",
       "    </tr>\n",
       "    <tr>\n",
       "      <th>194743</th>\n",
       "      <td>41.695461</td>\n",
       "      <td>8.948481</td>\n",
       "      <td>0.0</td>\n",
       "    </tr>\n",
       "    <tr>\n",
       "      <th>325551</th>\n",
       "      <td>41.718255</td>\n",
       "      <td>9.303876</td>\n",
       "      <td>0.0</td>\n",
       "    </tr>\n",
       "    <tr>\n",
       "      <th>194730</th>\n",
       "      <td>41.754673</td>\n",
       "      <td>8.859828</td>\n",
       "      <td>0.0</td>\n",
       "    </tr>\n",
       "    <tr>\n",
       "      <th>325421</th>\n",
       "      <td>41.768722</td>\n",
       "      <td>9.173763</td>\n",
       "      <td>0.0</td>\n",
       "    </tr>\n",
       "  </tbody>\n",
       "</table>\n",
       "</div>"
      ],
      "text/plain": [
       "              lat       lon  pfas_sum\n",
       "194750  41.392351  9.165047       4.1\n",
       "194743  41.695461  8.948481       0.0\n",
       "325551  41.718255  9.303876       0.0\n",
       "194730  41.754673  8.859828       0.0\n",
       "325421  41.768722  9.173763       0.0"
      ]
     },
     "execution_count": 79,
     "metadata": {},
     "output_type": "execute_result"
    }
   ],
   "source": [
    "df_temp.head()"
   ]
  },
  {
   "cell_type": "code",
   "execution_count": 84,
   "metadata": {},
   "outputs": [],
   "source": [
    "datatemp = 'data/pfas_france_2023_dist_site_rr.parquet'\n",
    "df_temp = pd.read_parquet(datatemp)\n",
    "df_temp = df_temp.drop(columns=[\"geometry\"])"
   ]
  },
  {
   "cell_type": "code",
   "execution_count": 85,
   "metadata": {},
   "outputs": [
    {
     "data": {
      "text/html": [
       "<div>\n",
       "<style scoped>\n",
       "    .dataframe tbody tr th:only-of-type {\n",
       "        vertical-align: middle;\n",
       "    }\n",
       "\n",
       "    .dataframe tbody tr th {\n",
       "        vertical-align: top;\n",
       "    }\n",
       "\n",
       "    .dataframe thead th {\n",
       "        text-align: right;\n",
       "    }\n",
       "</style>\n",
       "<table border=\"1\" class=\"dataframe\">\n",
       "  <thead>\n",
       "    <tr style=\"text-align: right;\">\n",
       "      <th></th>\n",
       "      <th>id</th>\n",
       "      <th>lon</th>\n",
       "      <th>lat</th>\n",
       "      <th>POSTE</th>\n",
       "      <th>RR</th>\n",
       "    </tr>\n",
       "  </thead>\n",
       "  <tbody>\n",
       "    <tr>\n",
       "      <th>0</th>\n",
       "      <td>1014002</td>\n",
       "      <td>5.669000</td>\n",
       "      <td>46.278167</td>\n",
       "      <td>1014002</td>\n",
       "      <td>1413.8</td>\n",
       "    </tr>\n",
       "    <tr>\n",
       "      <th>1</th>\n",
       "      <td>1034004</td>\n",
       "      <td>5.688000</td>\n",
       "      <td>45.769333</td>\n",
       "      <td>1034004</td>\n",
       "      <td>1179.9</td>\n",
       "    </tr>\n",
       "    <tr>\n",
       "      <th>2</th>\n",
       "      <td>1064001</td>\n",
       "      <td>5.487167</td>\n",
       "      <td>45.777167</td>\n",
       "      <td>1064001</td>\n",
       "      <td>1182.6</td>\n",
       "    </tr>\n",
       "    <tr>\n",
       "      <th>3</th>\n",
       "      <td>1071001</td>\n",
       "      <td>6.080333</td>\n",
       "      <td>46.310333</td>\n",
       "      <td>1071001</td>\n",
       "      <td>1177.9</td>\n",
       "    </tr>\n",
       "    <tr>\n",
       "      <th>4</th>\n",
       "      <td>1072001</td>\n",
       "      <td>5.287667</td>\n",
       "      <td>46.204333</td>\n",
       "      <td>1072001</td>\n",
       "      <td>1042.5</td>\n",
       "    </tr>\n",
       "  </tbody>\n",
       "</table>\n",
       "</div>"
      ],
      "text/plain": [
       "        id       lon        lat    POSTE      RR\n",
       "0  1014002  5.669000  46.278167  1014002  1413.8\n",
       "1  1034004  5.688000  45.769333  1034004  1179.9\n",
       "2  1064001  5.487167  45.777167  1064001  1182.6\n",
       "3  1071001  6.080333  46.310333  1071001  1177.9\n",
       "4  1072001  5.287667  46.204333  1072001  1042.5"
      ]
     },
     "execution_count": 85,
     "metadata": {},
     "output_type": "execute_result"
    }
   ],
   "source": [
    "df_temp.head()"
   ]
  },
  {
   "cell_type": "code",
   "execution_count": 4,
   "metadata": {},
   "outputs": [],
   "source": [
    "data = 'data/pfas_france_2023_dist_site.parquet'\n",
    "df_observation = pd.read_parquet(data)"
   ]
  },
  {
   "cell_type": "code",
   "execution_count": 5,
   "metadata": {},
   "outputs": [],
   "source": [
    "data = 'data/rr_annuel.parquet'\n",
    "df_rr = pd.read_parquet(data)"
   ]
  },
  {
   "cell_type": "code",
   "execution_count": 14,
   "metadata": {},
   "outputs": [
    {
     "name": "stdout",
     "output_type": "stream",
     "text": [
      "(1968, 6)\n"
     ]
    },
    {
     "data": {
      "text/html": [
       "<div>\n",
       "<style scoped>\n",
       "    .dataframe tbody tr th:only-of-type {\n",
       "        vertical-align: middle;\n",
       "    }\n",
       "\n",
       "    .dataframe tbody tr th {\n",
       "        vertical-align: top;\n",
       "    }\n",
       "\n",
       "    .dataframe thead th {\n",
       "        text-align: right;\n",
       "    }\n",
       "</style>\n",
       "<table border=\"1\" class=\"dataframe\">\n",
       "  <thead>\n",
       "    <tr style=\"text-align: right;\">\n",
       "      <th></th>\n",
       "      <th>id</th>\n",
       "      <th>lon</th>\n",
       "      <th>lat</th>\n",
       "      <th>geometry</th>\n",
       "      <th>POSTE</th>\n",
       "      <th>RR</th>\n",
       "    </tr>\n",
       "  </thead>\n",
       "  <tbody>\n",
       "    <tr>\n",
       "      <th>0</th>\n",
       "      <td>1014002</td>\n",
       "      <td>5.669000</td>\n",
       "      <td>46.278167</td>\n",
       "      <td>b'\\x01\\x01\\x00\\x00\\x00\\xdd$\\xf9b&lt;B#A\\x93\\xb5\\x...</td>\n",
       "      <td>1014002</td>\n",
       "      <td>1413.8</td>\n",
       "    </tr>\n",
       "    <tr>\n",
       "      <th>1</th>\n",
       "      <td>1034004</td>\n",
       "      <td>5.688000</td>\n",
       "      <td>45.769333</td>\n",
       "      <td>b'\\x01\\x01\\x00\\x00\\x00\\xb7\\xca\\xfa\\x86\\xc2R#A\\...</td>\n",
       "      <td>1034004</td>\n",
       "      <td>1179.9</td>\n",
       "    </tr>\n",
       "    <tr>\n",
       "      <th>2</th>\n",
       "      <td>1064001</td>\n",
       "      <td>5.487167</td>\n",
       "      <td>45.777167</td>\n",
       "      <td>b'\\x01\\x01\\x00\\x00\\x00\\x90\\x0c\\xceE\\x19\\xa4\"A\\...</td>\n",
       "      <td>1064001</td>\n",
       "      <td>1182.6</td>\n",
       "    </tr>\n",
       "    <tr>\n",
       "      <th>3</th>\n",
       "      <td>1071001</td>\n",
       "      <td>6.080333</td>\n",
       "      <td>46.310333</td>\n",
       "      <td>b'\\x01\\x01\\x00\\x00\\x00\\x8du\\x96%\\xf7\\xa7$A\\xb6...</td>\n",
       "      <td>1071001</td>\n",
       "      <td>1177.9</td>\n",
       "    </tr>\n",
       "    <tr>\n",
       "      <th>4</th>\n",
       "      <td>1072001</td>\n",
       "      <td>5.287667</td>\n",
       "      <td>46.204333</td>\n",
       "      <td>b'\\x01\\x01\\x00\\x00\\x00\\x1a\\xbf\\xbc\\xcb\\x98\\xf6...</td>\n",
       "      <td>1072001</td>\n",
       "      <td>1042.5</td>\n",
       "    </tr>\n",
       "  </tbody>\n",
       "</table>\n",
       "</div>"
      ],
      "text/plain": [
       "        id       lon        lat  \\\n",
       "0  1014002  5.669000  46.278167   \n",
       "1  1034004  5.688000  45.769333   \n",
       "2  1064001  5.487167  45.777167   \n",
       "3  1071001  6.080333  46.310333   \n",
       "4  1072001  5.287667  46.204333   \n",
       "\n",
       "                                            geometry    POSTE      RR  \n",
       "0  b'\\x01\\x01\\x00\\x00\\x00\\xdd$\\xf9b<B#A\\x93\\xb5\\x...  1014002  1413.8  \n",
       "1  b'\\x01\\x01\\x00\\x00\\x00\\xb7\\xca\\xfa\\x86\\xc2R#A\\...  1034004  1179.9  \n",
       "2  b'\\x01\\x01\\x00\\x00\\x00\\x90\\x0c\\xceE\\x19\\xa4\"A\\...  1064001  1182.6  \n",
       "3  b'\\x01\\x01\\x00\\x00\\x00\\x8du\\x96%\\xf7\\xa7$A\\xb6...  1071001  1177.9  \n",
       "4  b'\\x01\\x01\\x00\\x00\\x00\\x1a\\xbf\\xbc\\xcb\\x98\\xf6...  1072001  1042.5  "
      ]
     },
     "execution_count": 14,
     "metadata": {},
     "output_type": "execute_result"
    }
   ],
   "source": [
    "print(df_rr.shape)\n",
    "df_rr.head()"
   ]
  },
  {
   "cell_type": "code",
   "execution_count": 16,
   "metadata": {},
   "outputs": [
    {
     "name": "stdout",
     "output_type": "stream",
     "text": [
      "(4120, 4)\n"
     ]
    },
    {
     "data": {
      "text/html": [
       "<div>\n",
       "<style scoped>\n",
       "    .dataframe tbody tr th:only-of-type {\n",
       "        vertical-align: middle;\n",
       "    }\n",
       "\n",
       "    .dataframe tbody tr th {\n",
       "        vertical-align: top;\n",
       "    }\n",
       "\n",
       "    .dataframe thead th {\n",
       "        text-align: right;\n",
       "    }\n",
       "</style>\n",
       "<table border=\"1\" class=\"dataframe\">\n",
       "  <thead>\n",
       "    <tr style=\"text-align: right;\">\n",
       "      <th></th>\n",
       "      <th>lat</th>\n",
       "      <th>lon</th>\n",
       "      <th>pfas_sum</th>\n",
       "      <th>distance_site</th>\n",
       "    </tr>\n",
       "  </thead>\n",
       "  <tbody>\n",
       "    <tr>\n",
       "      <th>194750</th>\n",
       "      <td>41.392351</td>\n",
       "      <td>9.165047</td>\n",
       "      <td>4.1</td>\n",
       "      <td>129.586067</td>\n",
       "    </tr>\n",
       "    <tr>\n",
       "      <th>194743</th>\n",
       "      <td>41.695461</td>\n",
       "      <td>8.948481</td>\n",
       "      <td>0.0</td>\n",
       "      <td>93.066029</td>\n",
       "    </tr>\n",
       "    <tr>\n",
       "      <th>325551</th>\n",
       "      <td>41.718255</td>\n",
       "      <td>9.303876</td>\n",
       "      <td>0.0</td>\n",
       "      <td>99.050189</td>\n",
       "    </tr>\n",
       "    <tr>\n",
       "      <th>194730</th>\n",
       "      <td>41.754673</td>\n",
       "      <td>8.859828</td>\n",
       "      <td>0.0</td>\n",
       "      <td>85.771498</td>\n",
       "    </tr>\n",
       "    <tr>\n",
       "      <th>325421</th>\n",
       "      <td>41.768722</td>\n",
       "      <td>9.173763</td>\n",
       "      <td>0.0</td>\n",
       "      <td>89.702452</td>\n",
       "    </tr>\n",
       "  </tbody>\n",
       "</table>\n",
       "</div>"
      ],
      "text/plain": [
       "              lat       lon  pfas_sum  distance_site\n",
       "194750  41.392351  9.165047       4.1     129.586067\n",
       "194743  41.695461  8.948481       0.0      93.066029\n",
       "325551  41.718255  9.303876       0.0      99.050189\n",
       "194730  41.754673  8.859828       0.0      85.771498\n",
       "325421  41.768722  9.173763       0.0      89.702452"
      ]
     },
     "execution_count": 16,
     "metadata": {},
     "output_type": "execute_result"
    }
   ],
   "source": [
    "print(df_observation.shape)\n",
    "df_observation.head()"
   ]
  },
  {
   "cell_type": "code",
   "execution_count": 11,
   "metadata": {},
   "outputs": [],
   "source": [
    "# Fonction pour calculer la distance entre deux points géographiques\n",
    "def haversine(lon1, lat1, lon2, lat2):\n",
    "    R = 6371  # rayon de la Terre en km\n",
    "    lon1, lat1, lon2, lat2 = map(np.radians, [lon1, lat1, lon2, lat2])\n",
    "    dlon = lon2 - lon1\n",
    "    dlat = lat2 - lat1\n",
    "    a = np.sin(dlat/2)**2 + np.cos(lat1) * np.cos(lat2) * np.sin(dlon/2)**2\n",
    "    c = 2 * np.arcsin(np.sqrt(a))\n",
    "    return R * c"
   ]
  },
  {
   "cell_type": "code",
   "execution_count": 50,
   "metadata": {},
   "outputs": [],
   "source": [
    "# Distance seuil pour considérer deux points comme \"proches\"\n",
    "distance_threshold = 10.0  # en km (par exemple, 1 km)"
   ]
  },
  {
   "cell_type": "code",
   "execution_count": 17,
   "metadata": {},
   "outputs": [],
   "source": [
    "# Calcul des distances entre tous les points des deux DataFrames\n",
    "distances = cdist(df_rr[['lat', 'lon']], df_observation[['lat', 'lon']], metric=lambda u, v: haversine(u[1], u[0], v[1], v[0]))"
   ]
  },
  {
   "cell_type": "code",
   "execution_count": 37,
   "metadata": {},
   "outputs": [
    {
     "data": {
      "text/plain": [
       "array([ 3.57324576,  6.29794894,  7.88453385,  8.0997829 , 10.38267042,\n",
       "       10.49699429, 10.95835456, 12.25886667, 13.03935109, 14.54252825])"
      ]
     },
     "execution_count": 37,
     "metadata": {},
     "output_type": "execute_result"
    }
   ],
   "source": [
    "np.sort(distances[0])[:10]"
   ]
  },
  {
   "cell_type": "code",
   "execution_count": 51,
   "metadata": {},
   "outputs": [],
   "source": [
    "# Trouver les paires de points dont la distance est inférieure au seuil\n",
    "close_pairs = np.where(distances < distance_threshold)"
   ]
  },
  {
   "cell_type": "code",
   "execution_count": 52,
   "metadata": {},
   "outputs": [
    {
     "data": {
      "text/plain": [
       "(4547,)"
      ]
     },
     "execution_count": 52,
     "metadata": {},
     "output_type": "execute_result"
    }
   ],
   "source": [
    "close_pairs[0].shape"
   ]
  },
  {
   "cell_type": "code",
   "execution_count": 54,
   "metadata": {},
   "outputs": [
    {
     "ename": "KeyError",
     "evalue": "'value'",
     "output_type": "error",
     "traceback": [
      "\u001b[0;31m---------------------------------------------------------------------------\u001b[0m",
      "\u001b[0;31mKeyError\u001b[0m                                  Traceback (most recent call last)",
      "File \u001b[0;32m~/miniconda3/envs/kriging/lib/python3.12/site-packages/pandas/core/indexes/base.py:3805\u001b[0m, in \u001b[0;36mIndex.get_loc\u001b[0;34m(self, key)\u001b[0m\n\u001b[1;32m   3804\u001b[0m \u001b[38;5;28;01mtry\u001b[39;00m:\n\u001b[0;32m-> 3805\u001b[0m     \u001b[38;5;28;01mreturn\u001b[39;00m \u001b[38;5;28mself\u001b[39m\u001b[38;5;241m.\u001b[39m_engine\u001b[38;5;241m.\u001b[39mget_loc(casted_key)\n\u001b[1;32m   3806\u001b[0m \u001b[38;5;28;01mexcept\u001b[39;00m \u001b[38;5;167;01mKeyError\u001b[39;00m \u001b[38;5;28;01mas\u001b[39;00m err:\n",
      "File \u001b[0;32mindex.pyx:167\u001b[0m, in \u001b[0;36mpandas._libs.index.IndexEngine.get_loc\u001b[0;34m()\u001b[0m\n",
      "File \u001b[0;32mindex.pyx:196\u001b[0m, in \u001b[0;36mpandas._libs.index.IndexEngine.get_loc\u001b[0;34m()\u001b[0m\n",
      "File \u001b[0;32mpandas/_libs/hashtable_class_helper.pxi:7081\u001b[0m, in \u001b[0;36mpandas._libs.hashtable.PyObjectHashTable.get_item\u001b[0;34m()\u001b[0m\n",
      "File \u001b[0;32mpandas/_libs/hashtable_class_helper.pxi:7089\u001b[0m, in \u001b[0;36mpandas._libs.hashtable.PyObjectHashTable.get_item\u001b[0;34m()\u001b[0m\n",
      "\u001b[0;31mKeyError\u001b[0m: 'value'",
      "\nThe above exception was the direct cause of the following exception:\n",
      "\u001b[0;31mKeyError\u001b[0m                                  Traceback (most recent call last)",
      "Cell \u001b[0;32mIn[54], line 6\u001b[0m\n\u001b[1;32m      3\u001b[0m df_observation_values \u001b[38;5;241m=\u001b[39m []\n\u001b[1;32m      5\u001b[0m \u001b[38;5;28;01mfor\u001b[39;00m i, j \u001b[38;5;129;01min\u001b[39;00m \u001b[38;5;28mzip\u001b[39m(close_pairs[\u001b[38;5;241m0\u001b[39m], close_pairs[\u001b[38;5;241m1\u001b[39m]):\n\u001b[0;32m----> 6\u001b[0m     df_rr_values\u001b[38;5;241m.\u001b[39mappend(df_rr\u001b[38;5;241m.\u001b[39mloc[i, \u001b[38;5;124m'\u001b[39m\u001b[38;5;124mvalue\u001b[39m\u001b[38;5;124m'\u001b[39m])  \u001b[38;5;66;03m# Récupérer la valeur dans df1\u001b[39;00m\n\u001b[1;32m      7\u001b[0m     df_observation_values\u001b[38;5;241m.\u001b[39mappend(df_observation\u001b[38;5;241m.\u001b[39mloc[j, \u001b[38;5;124m'\u001b[39m\u001b[38;5;124mvalue\u001b[39m\u001b[38;5;124m'\u001b[39m])\n",
      "File \u001b[0;32m~/miniconda3/envs/kriging/lib/python3.12/site-packages/pandas/core/indexing.py:1183\u001b[0m, in \u001b[0;36m_LocationIndexer.__getitem__\u001b[0;34m(self, key)\u001b[0m\n\u001b[1;32m   1181\u001b[0m     key \u001b[38;5;241m=\u001b[39m \u001b[38;5;28mtuple\u001b[39m(com\u001b[38;5;241m.\u001b[39mapply_if_callable(x, \u001b[38;5;28mself\u001b[39m\u001b[38;5;241m.\u001b[39mobj) \u001b[38;5;28;01mfor\u001b[39;00m x \u001b[38;5;129;01min\u001b[39;00m key)\n\u001b[1;32m   1182\u001b[0m     \u001b[38;5;28;01mif\u001b[39;00m \u001b[38;5;28mself\u001b[39m\u001b[38;5;241m.\u001b[39m_is_scalar_access(key):\n\u001b[0;32m-> 1183\u001b[0m         \u001b[38;5;28;01mreturn\u001b[39;00m \u001b[38;5;28mself\u001b[39m\u001b[38;5;241m.\u001b[39mobj\u001b[38;5;241m.\u001b[39m_get_value(\u001b[38;5;241m*\u001b[39mkey, takeable\u001b[38;5;241m=\u001b[39m\u001b[38;5;28mself\u001b[39m\u001b[38;5;241m.\u001b[39m_takeable)\n\u001b[1;32m   1184\u001b[0m     \u001b[38;5;28;01mreturn\u001b[39;00m \u001b[38;5;28mself\u001b[39m\u001b[38;5;241m.\u001b[39m_getitem_tuple(key)\n\u001b[1;32m   1185\u001b[0m \u001b[38;5;28;01melse\u001b[39;00m:\n\u001b[1;32m   1186\u001b[0m     \u001b[38;5;66;03m# we by definition only have the 0th axis\u001b[39;00m\n",
      "File \u001b[0;32m~/miniconda3/envs/kriging/lib/python3.12/site-packages/pandas/core/frame.py:4214\u001b[0m, in \u001b[0;36mDataFrame._get_value\u001b[0;34m(self, index, col, takeable)\u001b[0m\n\u001b[1;32m   4211\u001b[0m     series \u001b[38;5;241m=\u001b[39m \u001b[38;5;28mself\u001b[39m\u001b[38;5;241m.\u001b[39m_ixs(col, axis\u001b[38;5;241m=\u001b[39m\u001b[38;5;241m1\u001b[39m)\n\u001b[1;32m   4212\u001b[0m     \u001b[38;5;28;01mreturn\u001b[39;00m series\u001b[38;5;241m.\u001b[39m_values[index]\n\u001b[0;32m-> 4214\u001b[0m series \u001b[38;5;241m=\u001b[39m \u001b[38;5;28mself\u001b[39m\u001b[38;5;241m.\u001b[39m_get_item_cache(col)\n\u001b[1;32m   4215\u001b[0m engine \u001b[38;5;241m=\u001b[39m \u001b[38;5;28mself\u001b[39m\u001b[38;5;241m.\u001b[39mindex\u001b[38;5;241m.\u001b[39m_engine\n\u001b[1;32m   4217\u001b[0m \u001b[38;5;28;01mif\u001b[39;00m \u001b[38;5;129;01mnot\u001b[39;00m \u001b[38;5;28misinstance\u001b[39m(\u001b[38;5;28mself\u001b[39m\u001b[38;5;241m.\u001b[39mindex, MultiIndex):\n\u001b[1;32m   4218\u001b[0m     \u001b[38;5;66;03m# CategoricalIndex: Trying to use the engine fastpath may give incorrect\u001b[39;00m\n\u001b[1;32m   4219\u001b[0m     \u001b[38;5;66;03m#  results if our categories are integers that dont match our codes\u001b[39;00m\n\u001b[1;32m   4220\u001b[0m     \u001b[38;5;66;03m# IntervalIndex: IntervalTree has no get_loc\u001b[39;00m\n",
      "File \u001b[0;32m~/miniconda3/envs/kriging/lib/python3.12/site-packages/pandas/core/frame.py:4638\u001b[0m, in \u001b[0;36mDataFrame._get_item_cache\u001b[0;34m(self, item)\u001b[0m\n\u001b[1;32m   4633\u001b[0m res \u001b[38;5;241m=\u001b[39m cache\u001b[38;5;241m.\u001b[39mget(item)\n\u001b[1;32m   4634\u001b[0m \u001b[38;5;28;01mif\u001b[39;00m res \u001b[38;5;129;01mis\u001b[39;00m \u001b[38;5;28;01mNone\u001b[39;00m:\n\u001b[1;32m   4635\u001b[0m     \u001b[38;5;66;03m# All places that call _get_item_cache have unique columns,\u001b[39;00m\n\u001b[1;32m   4636\u001b[0m     \u001b[38;5;66;03m#  pending resolution of GH#33047\u001b[39;00m\n\u001b[0;32m-> 4638\u001b[0m     loc \u001b[38;5;241m=\u001b[39m \u001b[38;5;28mself\u001b[39m\u001b[38;5;241m.\u001b[39mcolumns\u001b[38;5;241m.\u001b[39mget_loc(item)\n\u001b[1;32m   4639\u001b[0m     res \u001b[38;5;241m=\u001b[39m \u001b[38;5;28mself\u001b[39m\u001b[38;5;241m.\u001b[39m_ixs(loc, axis\u001b[38;5;241m=\u001b[39m\u001b[38;5;241m1\u001b[39m)\n\u001b[1;32m   4641\u001b[0m     cache[item] \u001b[38;5;241m=\u001b[39m res\n",
      "File \u001b[0;32m~/miniconda3/envs/kriging/lib/python3.12/site-packages/pandas/core/indexes/base.py:3812\u001b[0m, in \u001b[0;36mIndex.get_loc\u001b[0;34m(self, key)\u001b[0m\n\u001b[1;32m   3807\u001b[0m     \u001b[38;5;28;01mif\u001b[39;00m \u001b[38;5;28misinstance\u001b[39m(casted_key, \u001b[38;5;28mslice\u001b[39m) \u001b[38;5;129;01mor\u001b[39;00m (\n\u001b[1;32m   3808\u001b[0m         \u001b[38;5;28misinstance\u001b[39m(casted_key, abc\u001b[38;5;241m.\u001b[39mIterable)\n\u001b[1;32m   3809\u001b[0m         \u001b[38;5;129;01mand\u001b[39;00m \u001b[38;5;28many\u001b[39m(\u001b[38;5;28misinstance\u001b[39m(x, \u001b[38;5;28mslice\u001b[39m) \u001b[38;5;28;01mfor\u001b[39;00m x \u001b[38;5;129;01min\u001b[39;00m casted_key)\n\u001b[1;32m   3810\u001b[0m     ):\n\u001b[1;32m   3811\u001b[0m         \u001b[38;5;28;01mraise\u001b[39;00m InvalidIndexError(key)\n\u001b[0;32m-> 3812\u001b[0m     \u001b[38;5;28;01mraise\u001b[39;00m \u001b[38;5;167;01mKeyError\u001b[39;00m(key) \u001b[38;5;28;01mfrom\u001b[39;00m \u001b[38;5;21;01merr\u001b[39;00m\n\u001b[1;32m   3813\u001b[0m \u001b[38;5;28;01mexcept\u001b[39;00m \u001b[38;5;167;01mTypeError\u001b[39;00m:\n\u001b[1;32m   3814\u001b[0m     \u001b[38;5;66;03m# If we have a listlike key, _check_indexing_error will raise\u001b[39;00m\n\u001b[1;32m   3815\u001b[0m     \u001b[38;5;66;03m#  InvalidIndexError. Otherwise we fall through and re-raise\u001b[39;00m\n\u001b[1;32m   3816\u001b[0m     \u001b[38;5;66;03m#  the TypeError.\u001b[39;00m\n\u001b[1;32m   3817\u001b[0m     \u001b[38;5;28mself\u001b[39m\u001b[38;5;241m.\u001b[39m_check_indexing_error(key)\n",
      "\u001b[0;31mKeyError\u001b[0m: 'value'"
     ]
    }
   ],
   "source": [
    "# Liste des valeurs des points co-localisés\n",
    "df_rr_values = []\n",
    "df_observation_values = []\n",
    "\n",
    "for i, j in zip(close_pairs[0], close_pairs[1]):\n",
    "    df_rr_values.append(df_rr.loc[i, 'value'])  # Récupérer la valeur dans df1\n",
    "    df_observation_values.append(df_observation.loc[j, 'value'])  # Récupérer la valeur dans df2"
   ]
  },
  {
   "cell_type": "code",
   "execution_count": 55,
   "metadata": {},
   "outputs": [],
   "source": [
    "# Extraire les coordonnées des observations et des stations météo\n",
    "coords_observation = df_observation[['lon', 'lat']].to_numpy()\n",
    "coords_rr = df_rr[['lon', 'lat']].to_numpy()"
   ]
  },
  {
   "cell_type": "code",
   "execution_count": 57,
   "metadata": {},
   "outputs": [],
   "source": [
    "from scipy.spatial import cKDTree\n",
    "# Créer un arbre de k-d pour les stations météo (c'est plus rapide pour la recherche)\n",
    "tree = cKDTree(coords_rr)"
   ]
  },
  {
   "cell_type": "code",
   "execution_count": 58,
   "metadata": {},
   "outputs": [],
   "source": [
    "# Pour chaque observation, trouver la station la plus proche\n",
    "# Distances correspond aux distances les plus proches, indices correspond aux indices des stations les plus proches\n",
    "distances, indices = tree.query(coords_observation, k=1)  # k=1 pour trouver la station la plus proche"
   ]
  },
  {
   "cell_type": "code",
   "execution_count": 60,
   "metadata": {},
   "outputs": [],
   "source": [
    "# Ajouter les distances et les quantités de pluie associées aux observations\n",
    "df_observation['closest_rr_station'] = df_rr.loc[indices, 'id'].values\n",
    "df_observation['closest_rr'] = df_rr.loc[indices, 'RR'].values\n",
    "df_observation['distance_to_rr_station'] = distances"
   ]
  },
  {
   "cell_type": "code",
   "execution_count": 66,
   "metadata": {},
   "outputs": [
    {
     "data": {
      "text/plain": [
       "array([0.3015818 , 0.28811262, 0.27691765, ..., 0.00062236, 0.00051736,\n",
       "       0.00042137])"
      ]
     },
     "execution_count": 66,
     "metadata": {},
     "output_type": "execute_result"
    }
   ],
   "source": [
    "np.sort(df_observation[\"distance_to_rr_station\"])[::-1]"
   ]
  },
  {
   "cell_type": "code",
   "execution_count": 86,
   "metadata": {},
   "outputs": [
    {
     "data": {
      "text/html": [
       "<div>\n",
       "<style scoped>\n",
       "    .dataframe tbody tr th:only-of-type {\n",
       "        vertical-align: middle;\n",
       "    }\n",
       "\n",
       "    .dataframe tbody tr th {\n",
       "        vertical-align: top;\n",
       "    }\n",
       "\n",
       "    .dataframe thead th {\n",
       "        text-align: right;\n",
       "    }\n",
       "</style>\n",
       "<table border=\"1\" class=\"dataframe\">\n",
       "  <thead>\n",
       "    <tr style=\"text-align: right;\">\n",
       "      <th></th>\n",
       "      <th>lat</th>\n",
       "      <th>lon</th>\n",
       "      <th>pfas_sum</th>\n",
       "      <th>distance_site</th>\n",
       "      <th>closest_rr_station</th>\n",
       "      <th>closest_rr</th>\n",
       "      <th>distance_to_rr_station</th>\n",
       "    </tr>\n",
       "  </thead>\n",
       "  <tbody>\n",
       "    <tr>\n",
       "      <th>194750</th>\n",
       "      <td>41.392351</td>\n",
       "      <td>9.165047</td>\n",
       "      <td>4.1</td>\n",
       "      <td>129.586067</td>\n",
       "      <td>20041001</td>\n",
       "      <td>596.3</td>\n",
       "      <td>0.021986</td>\n",
       "    </tr>\n",
       "    <tr>\n",
       "      <th>194743</th>\n",
       "      <td>41.695461</td>\n",
       "      <td>8.948481</td>\n",
       "      <td>0.0</td>\n",
       "      <td>93.066029</td>\n",
       "      <td>20249003</td>\n",
       "      <td>528.0</td>\n",
       "      <td>0.037684</td>\n",
       "    </tr>\n",
       "    <tr>\n",
       "      <th>325551</th>\n",
       "      <td>41.718255</td>\n",
       "      <td>9.303876</td>\n",
       "      <td>0.0</td>\n",
       "      <td>99.050189</td>\n",
       "      <td>20092001</td>\n",
       "      <td>817.6</td>\n",
       "      <td>0.044642</td>\n",
       "    </tr>\n",
       "    <tr>\n",
       "      <th>194730</th>\n",
       "      <td>41.754673</td>\n",
       "      <td>8.859828</td>\n",
       "      <td>0.0</td>\n",
       "      <td>85.771498</td>\n",
       "      <td>20232002</td>\n",
       "      <td>884.4</td>\n",
       "      <td>0.074170</td>\n",
       "    </tr>\n",
       "    <tr>\n",
       "      <th>325421</th>\n",
       "      <td>41.768722</td>\n",
       "      <td>9.173763</td>\n",
       "      <td>0.0</td>\n",
       "      <td>89.702452</td>\n",
       "      <td>20362005</td>\n",
       "      <td>1197.3</td>\n",
       "      <td>0.021627</td>\n",
       "    </tr>\n",
       "    <tr>\n",
       "      <th>...</th>\n",
       "      <td>...</td>\n",
       "      <td>...</td>\n",
       "      <td>...</td>\n",
       "      <td>...</td>\n",
       "      <td>...</td>\n",
       "      <td>...</td>\n",
       "      <td>...</td>\n",
       "    </tr>\n",
       "    <tr>\n",
       "      <th>159310</th>\n",
       "      <td>50.787268</td>\n",
       "      <td>1.975412</td>\n",
       "      <td>0.0</td>\n",
       "      <td>13.558927</td>\n",
       "      <td>62076002</td>\n",
       "      <td>1647.1</td>\n",
       "      <td>0.077803</td>\n",
       "    </tr>\n",
       "    <tr>\n",
       "      <th>159329</th>\n",
       "      <td>50.798708</td>\n",
       "      <td>2.143868</td>\n",
       "      <td>0.0</td>\n",
       "      <td>8.785299</td>\n",
       "      <td>59647001</td>\n",
       "      <td>1205.1</td>\n",
       "      <td>0.077841</td>\n",
       "    </tr>\n",
       "    <tr>\n",
       "      <th>159250</th>\n",
       "      <td>50.834486</td>\n",
       "      <td>1.686862</td>\n",
       "      <td>0.0</td>\n",
       "      <td>13.321825</td>\n",
       "      <td>62054001</td>\n",
       "      <td>978.3</td>\n",
       "      <td>0.109817</td>\n",
       "    </tr>\n",
       "    <tr>\n",
       "      <th>159292</th>\n",
       "      <td>50.894631</td>\n",
       "      <td>1.839508</td>\n",
       "      <td>0.0</td>\n",
       "      <td>4.803427</td>\n",
       "      <td>62548002</td>\n",
       "      <td>947.5</td>\n",
       "      <td>0.133644</td>\n",
       "    </tr>\n",
       "    <tr>\n",
       "      <th>159230</th>\n",
       "      <td>50.934294</td>\n",
       "      <td>1.765432</td>\n",
       "      <td>0.0</td>\n",
       "      <td>5.926130</td>\n",
       "      <td>62548002</td>\n",
       "      <td>947.5</td>\n",
       "      <td>0.192437</td>\n",
       "    </tr>\n",
       "  </tbody>\n",
       "</table>\n",
       "<p>4120 rows × 7 columns</p>\n",
       "</div>"
      ],
      "text/plain": [
       "              lat       lon  pfas_sum  distance_site  closest_rr_station  \\\n",
       "194750  41.392351  9.165047       4.1     129.586067            20041001   \n",
       "194743  41.695461  8.948481       0.0      93.066029            20249003   \n",
       "325551  41.718255  9.303876       0.0      99.050189            20092001   \n",
       "194730  41.754673  8.859828       0.0      85.771498            20232002   \n",
       "325421  41.768722  9.173763       0.0      89.702452            20362005   \n",
       "...           ...       ...       ...            ...                 ...   \n",
       "159310  50.787268  1.975412       0.0      13.558927            62076002   \n",
       "159329  50.798708  2.143868       0.0       8.785299            59647001   \n",
       "159250  50.834486  1.686862       0.0      13.321825            62054001   \n",
       "159292  50.894631  1.839508       0.0       4.803427            62548002   \n",
       "159230  50.934294  1.765432       0.0       5.926130            62548002   \n",
       "\n",
       "        closest_rr  distance_to_rr_station  \n",
       "194750       596.3                0.021986  \n",
       "194743       528.0                0.037684  \n",
       "325551       817.6                0.044642  \n",
       "194730       884.4                0.074170  \n",
       "325421      1197.3                0.021627  \n",
       "...            ...                     ...  \n",
       "159310      1647.1                0.077803  \n",
       "159329      1205.1                0.077841  \n",
       "159250       978.3                0.109817  \n",
       "159292       947.5                0.133644  \n",
       "159230       947.5                0.192437  \n",
       "\n",
       "[4120 rows x 7 columns]"
      ]
     },
     "execution_count": 86,
     "metadata": {},
     "output_type": "execute_result"
    }
   ],
   "source": [
    "df_observation"
   ]
  },
  {
   "cell_type": "code",
   "execution_count": 71,
   "metadata": {},
   "outputs": [
    {
     "data": {
      "image/png": "[encoded data removed]",
      "text/plain": [
       "<Figure size 1000x600 with 1 Axes>"
      ]
     },
     "metadata": {},
     "output_type": "display_data"
    }
   ],
   "source": [
    "from scipy.stats import linregress\n",
    "import seaborn as sns\n",
    "import matplotlib.pyplot as plt\n",
    "\n",
    "# Calcul de la corrélation linéaire entre pfas_sum et closest_rr\n",
    "corr_coef = df_observation['closest_rr'].corr(df_observation['pfas_sum'])\n",
    "\n",
    "# Régression linéaire\n",
    "slope, intercept, r_value, p_value, std_err = linregress(df_observation['closest_rr'], df_observation['pfas_sum'])\n",
    "\n",
    "# Plot des données avec la régression linéaire\n",
    "plt.figure(figsize=(10, 6))\n",
    "sns.regplot(x='closest_rr', y='pfas_sum', data=df_observation, line_kws={'label': f\"y={slope:.2f}x+{intercept:.2f}\"}, color='blue')\n",
    "plt.xlabel('Quantité de pluie la plus proche (mm)')\n",
    "plt.ylabel('PFAS sum')\n",
    "plt.title(f\"Régression linéaire\\nCoeff. de corrélation: {corr_coef:.2f}, p-value: {p_value:.2e}\")\n",
    "plt.legend()\n",
    "plt.show()\n"
   ]
  }
 ],
 "metadata": {
  "kernelspec": {
   "display_name": "kriging",
   "language": "python",
   "name": "python3"
  },
  "language_info": {
   "codemirror_mode": {
    "name": "ipython",
    "version": 3
   },
   "file_extension": ".py",
   "mimetype": "text/x-python",
   "name": "python",
   "nbconvert_exporter": "python",
   "pygments_lexer": "ipython3",
   "version": "3.12.7"
  }
 },
 "nbformat": 4,
 "nbformat_minor": 2
}
